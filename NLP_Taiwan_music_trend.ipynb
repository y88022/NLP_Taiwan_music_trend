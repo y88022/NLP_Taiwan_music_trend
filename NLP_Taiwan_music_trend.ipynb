{
 "cells": [
  {
   "cell_type": "markdown",
   "metadata": {},
   "source": [
    "# 匯入檔案"
   ]
  },
  {
   "cell_type": "code",
   "execution_count": 1,
   "metadata": {},
   "outputs": [],
   "source": [
    "path = \"/Users/boyen/Downloads/newn/\"\n",
    "# /Users/boyen/Downloads/newn/aftertokwholewithsenti.csv"
   ]
  },
  {
   "cell_type": "code",
   "execution_count": 2,
   "metadata": {},
   "outputs": [],
   "source": [
    "from __future__ import print_function\n",
    "import sklearn\n",
    "from sklearn.feature_extraction.text import TfidfVectorizer\n",
    "from sklearn.feature_extraction.text import CountVectorizer\n",
    "from sklearn.decomposition import TruncatedSVD\n",
    "from sklearn.preprocessing import Normalizer\n",
    "from sklearn import metrics\n",
    "from sklearn.cluster import KMeans, MiniBatchKMeans\n",
    "import pandas as pd\n",
    "import numpy\n",
    "import numpy as np\n",
    "import matplotlib.pyplot as plt\n",
    "import os\n",
    "import io\n",
    "import re"
   ]
  },
  {
   "cell_type": "code",
   "execution_count": 3,
   "metadata": {},
   "outputs": [
    {
     "data": {
      "text/html": [
       "<div>\n",
       "<style scoped>\n",
       "    .dataframe tbody tr th:only-of-type {\n",
       "        vertical-align: middle;\n",
       "    }\n",
       "\n",
       "    .dataframe tbody tr th {\n",
       "        vertical-align: top;\n",
       "    }\n",
       "\n",
       "    .dataframe thead th {\n",
       "        text-align: right;\n",
       "    }\n",
       "</style>\n",
       "<table border=\"1\" class=\"dataframe\">\n",
       "  <thead>\n",
       "    <tr style=\"text-align: right;\">\n",
       "      <th></th>\n",
       "      <th>歌名</th>\n",
       "      <th>歌手</th>\n",
       "      <th>周排名</th>\n",
       "      <th>周數</th>\n",
       "      <th>token</th>\n",
       "      <th>情緒</th>\n",
       "    </tr>\n",
       "  </thead>\n",
       "  <tbody>\n",
       "    <tr>\n",
       "      <th>0</th>\n",
       "      <td>Kiss Goodbye</td>\n",
       "      <td>王力宏</td>\n",
       "      <td>1</td>\n",
       "      <td>2006w1</td>\n",
       "      <td>不要 再 哭泣 這幕 多麼 熟悉 緊握著 手 彼此 都 捨不得 分離 每次 想 開口 但 不...</td>\n",
       "      <td>Negative</td>\n",
       "    </tr>\n",
       "    <tr>\n",
       "      <th>1</th>\n",
       "      <td>我會好好的</td>\n",
       "      <td>王心凌</td>\n",
       "      <td>2</td>\n",
       "      <td>2006w1</td>\n",
       "      <td>花還 香香的 時間 直去 回憶 真 美麗 想著 你 直 想著 你 你在 我 心底 變成 秘密...</td>\n",
       "      <td>Positive</td>\n",
       "    </tr>\n",
       "    <tr>\n",
       "      <th>2</th>\n",
       "      <td>睫毛彎彎</td>\n",
       "      <td>王心凌</td>\n",
       "      <td>3</td>\n",
       "      <td>2006w1</td>\n",
       "      <td>我心 蹦蹦跳跳 靈魂 快要 出竅 這 感覺 真好 你 對著 我 微笑 溫度 越來越 高 怎麼...</td>\n",
       "      <td>Positive</td>\n",
       "    </tr>\n",
       "    <tr>\n",
       "      <th>3</th>\n",
       "      <td>彩虹天堂</td>\n",
       "      <td>劉畊宏</td>\n",
       "      <td>4</td>\n",
       "      <td>2006w1</td>\n",
       "      <td>我 不知不覺 又 徘徊 在 從前 秋風 悄悄的 呼喚 聽來 盡是 孤單 落葉 期盼 片片 左...</td>\n",
       "      <td>Negative</td>\n",
       "    </tr>\n",
       "    <tr>\n",
       "      <th>4</th>\n",
       "      <td>花田錯</td>\n",
       "      <td>王力宏</td>\n",
       "      <td>5</td>\n",
       "      <td>2006w1</td>\n",
       "      <td>夜 好深 紙窗 裏 亮著 那 徹夜 等候 你 為我 點的 燭火 不過 是次 邂逅 紅樓 那場...</td>\n",
       "      <td>Negative</td>\n",
       "    </tr>\n",
       "    <tr>\n",
       "      <th>...</th>\n",
       "      <td>...</td>\n",
       "      <td>...</td>\n",
       "      <td>...</td>\n",
       "      <td>...</td>\n",
       "      <td>...</td>\n",
       "      <td>...</td>\n",
       "    </tr>\n",
       "    <tr>\n",
       "      <th>36388</th>\n",
       "      <td>兵變</td>\n",
       "      <td>邱鋒澤, 陳零九, 黃偉晉 &amp; 小賴</td>\n",
       "      <td>46</td>\n",
       "      <td>2019w52</td>\n",
       "      <td>那年 秋天 你在 月台 叫我 要 加油 飄忽 眼神 以為是 不捨 稀鬆 始末 早已 安排 在...</td>\n",
       "      <td>Negative</td>\n",
       "    </tr>\n",
       "    <tr>\n",
       "      <th>36389</th>\n",
       "      <td>Love is Love</td>\n",
       "      <td>楊丞琳 (Rainie Yang)</td>\n",
       "      <td>47</td>\n",
       "      <td>2019w52</td>\n",
       "      <td>是不是 我 太 單純 壞 好 崇拜 想得到 他 完整的 愛但 沒 簡單 頭髮 留長 放下來 ...</td>\n",
       "      <td>Netural</td>\n",
       "    </tr>\n",
       "    <tr>\n",
       "      <th>36390</th>\n",
       "      <td>再見煙火 (Goodbye Firework)</td>\n",
       "      <td>卓義峯 (Yifeng Zhuo)</td>\n",
       "      <td>48</td>\n",
       "      <td>2019w52</td>\n",
       "      <td>你 不敢 看我 更讓 我 難過 沉默 在 他們 放的 煙火 我 就像 煙火 瘋狂 燃燒 還是...</td>\n",
       "      <td>Negative</td>\n",
       "    </tr>\n",
       "    <tr>\n",
       "      <th>36391</th>\n",
       "      <td>告白氣球</td>\n",
       "      <td>周杰倫 (Jay Chou)</td>\n",
       "      <td>49</td>\n",
       "      <td>2019w52</td>\n",
       "      <td>塞納河畔 左岸 咖啡 我 手杯 品嚐 美 留下 唇 印的 嘴 花店 玫瑰 名字 寫錯 誰 風...</td>\n",
       "      <td>Positive</td>\n",
       "    </tr>\n",
       "    <tr>\n",
       "      <th>36392</th>\n",
       "      <td>彼個所在 (Heaven)</td>\n",
       "      <td>魏如萱 (waa wei)</td>\n",
       "      <td>50</td>\n",
       "      <td>2019w52</td>\n",
       "      <td>三更 半 暝 又擱 睏 袂 去 最近的 日子 毋 是很 歡喜 想 打電話 俾 你 撒嬌 幾句...</td>\n",
       "      <td>Netural</td>\n",
       "    </tr>\n",
       "  </tbody>\n",
       "</table>\n",
       "<p>36393 rows × 6 columns</p>\n",
       "</div>"
      ],
      "text/plain": [
       "                            歌名                  歌手  周排名       周數  \\\n",
       "0                 Kiss Goodbye                 王力宏    1   2006w1   \n",
       "1                        我會好好的                 王心凌    2   2006w1   \n",
       "2                         睫毛彎彎                 王心凌    3   2006w1   \n",
       "3                         彩虹天堂                 劉畊宏    4   2006w1   \n",
       "4                          花田錯                 王力宏    5   2006w1   \n",
       "...                        ...                 ...  ...      ...   \n",
       "36388                       兵變  邱鋒澤, 陳零九, 黃偉晉 & 小賴   46  2019w52   \n",
       "36389             Love is Love   楊丞琳 (Rainie Yang)   47  2019w52   \n",
       "36390  再見煙火 (Goodbye Firework)   卓義峯 (Yifeng Zhuo)   48  2019w52   \n",
       "36391                     告白氣球      周杰倫 (Jay Chou)   49  2019w52   \n",
       "36392            彼個所在 (Heaven)       魏如萱 (waa wei)   50  2019w52   \n",
       "\n",
       "                                                   token        情緒  \n",
       "0      不要 再 哭泣 這幕 多麼 熟悉 緊握著 手 彼此 都 捨不得 分離 每次 想 開口 但 不...  Negative  \n",
       "1      花還 香香的 時間 直去 回憶 真 美麗 想著 你 直 想著 你 你在 我 心底 變成 秘密...  Positive  \n",
       "2      我心 蹦蹦跳跳 靈魂 快要 出竅 這 感覺 真好 你 對著 我 微笑 溫度 越來越 高 怎麼...  Positive  \n",
       "3      我 不知不覺 又 徘徊 在 從前 秋風 悄悄的 呼喚 聽來 盡是 孤單 落葉 期盼 片片 左...  Negative  \n",
       "4      夜 好深 紙窗 裏 亮著 那 徹夜 等候 你 為我 點的 燭火 不過 是次 邂逅 紅樓 那場...  Negative  \n",
       "...                                                  ...       ...  \n",
       "36388  那年 秋天 你在 月台 叫我 要 加油 飄忽 眼神 以為是 不捨 稀鬆 始末 早已 安排 在...  Negative  \n",
       "36389  是不是 我 太 單純 壞 好 崇拜 想得到 他 完整的 愛但 沒 簡單 頭髮 留長 放下來 ...   Netural  \n",
       "36390  你 不敢 看我 更讓 我 難過 沉默 在 他們 放的 煙火 我 就像 煙火 瘋狂 燃燒 還是...  Negative  \n",
       "36391  塞納河畔 左岸 咖啡 我 手杯 品嚐 美 留下 唇 印的 嘴 花店 玫瑰 名字 寫錯 誰 風...  Positive  \n",
       "36392  三更 半 暝 又擱 睏 袂 去 最近的 日子 毋 是很 歡喜 想 打電話 俾 你 撒嬌 幾句...   Netural  \n",
       "\n",
       "[36393 rows x 6 columns]"
      ]
     },
     "execution_count": 3,
     "metadata": {},
     "output_type": "execute_result"
    }
   ],
   "source": [
    "# /Users/boyen/Downloads/newdata0103/aftertokwholewithsenti.csv\n",
    "df = pd.read_csv(\"/Users/boyen/Downloads/newn/aftertokwholewithsenti.csv\")  \n",
    "df"
   ]
  },
  {
   "cell_type": "markdown",
   "metadata": {},
   "source": [
    "# 定義不重複歌曲的正負向分析"
   ]
  },
  {
   "cell_type": "code",
   "execution_count": 4,
   "metadata": {},
   "outputs": [],
   "source": [
    "def pos_len(x):\n",
    "    ydata = df[df.周數.str.startswith(x)]\n",
    "    ydata=ydata[ydata.columns[[0,1,4,5]]]\n",
    "    ydata = ydata.drop_duplicates().reset_index()\n",
    "    posdata = ydata[ydata['情緒']=='Positive']\n",
    "    ans = len(posdata)\n",
    "    return ans\n",
    "\n",
    "def neg_len(x):\n",
    "    ydata = df[df.周數.str.startswith(x)]\n",
    "    ydata=ydata[ydata.columns[[0,1,4,5]]]\n",
    "    ydata = ydata.drop_duplicates().reset_index()\n",
    "    posdata = ydata[ydata['情緒']=='Negative']\n",
    "    ans = len(posdata)\n",
    "    return ans\n",
    "\n",
    "def net_len(x):\n",
    "    ydata = df[df.周數.str.startswith(x)]\n",
    "    ydata=ydata[ydata.columns[[0,1,4,5]]]\n",
    "    ydata = ydata.drop_duplicates().reset_index()\n",
    "    posdata = ydata[ydata['情緒']=='Netural']\n",
    "    ans = len(posdata)\n",
    "    return ans\n",
    "    "
   ]
  },
  {
   "cell_type": "code",
   "execution_count": 5,
   "metadata": {
    "scrolled": true
   },
   "outputs": [
    {
     "name": "stdout",
     "output_type": "stream",
     "text": [
      "[116, 108, 102, 96, 76, 49, 39, 36, 40, 28, 36, 42, 47, 41]\n",
      "[268, 244, 258, 259, 244, 211, 139, 149, 173, 151, 130, 171, 176, 183]\n",
      "[40, 35, 20, 35, 22, 26, 18, 11, 13, 20, 15, 19, 14, 23]\n"
     ]
    }
   ],
   "source": [
    "year_pos_len = [ ]\n",
    "year_neg_len = [ ]\n",
    "year_net_len = [ ]\n",
    "\n",
    "\n",
    "for i in range(2006, 2020):\n",
    "    \n",
    "    i = str(i)\n",
    "    yp = pos_len(i)\n",
    "    yn = neg_len(i)\n",
    "    ynn = net_len(i)\n",
    "    year_pos_len.append(yp)\n",
    "    year_neg_len.append(yn)\n",
    "    year_net_len.append(ynn)\n",
    "    \n",
    "    \n",
    "    \n",
    "print(year_pos_len)\n",
    "print(year_neg_len)\n",
    "print(year_net_len)"
   ]
  },
  {
   "cell_type": "code",
   "execution_count": 6,
   "metadata": {},
   "outputs": [
    {
     "data": {
      "text/plain": [
       "14"
      ]
     },
     "execution_count": 6,
     "metadata": {},
     "output_type": "execute_result"
    }
   ],
   "source": [
    "len(year_net_len)"
   ]
  },
  {
   "cell_type": "code",
   "execution_count": 7,
   "metadata": {},
   "outputs": [],
   "source": [
    "year_pos_len = [210, 189, 174, 174, 135, 116, 84, 80, 95, 84, 78, 89, 89, 101]\n",
    "year_neg_len = [186, 172, 175, 189, 183, 150, 97, 103, 111, 97, 92, 124, 131, 129]\n",
    "year_net_len = [40, 35, 20, 35, 22, 26, 18, 11, 13, 20, 15, 19, 14, 23]"
   ]
  },
  {
   "cell_type": "code",
   "execution_count": 8,
   "metadata": {},
   "outputs": [],
   "source": [
    "data = list(zip(year_pos_len, year_neg_len, year_net_len))\n",
    "df_pic = pd.DataFrame(data, columns = [\"pos\", \"neg\", \"net\"])"
   ]
  },
  {
   "cell_type": "code",
   "execution_count": 9,
   "metadata": {
    "scrolled": false
   },
   "outputs": [
    {
     "data": {
      "text/html": [
       "<div>\n",
       "<style scoped>\n",
       "    .dataframe tbody tr th:only-of-type {\n",
       "        vertical-align: middle;\n",
       "    }\n",
       "\n",
       "    .dataframe tbody tr th {\n",
       "        vertical-align: top;\n",
       "    }\n",
       "\n",
       "    .dataframe thead th {\n",
       "        text-align: right;\n",
       "    }\n",
       "</style>\n",
       "<table border=\"1\" class=\"dataframe\">\n",
       "  <thead>\n",
       "    <tr style=\"text-align: right;\">\n",
       "      <th></th>\n",
       "      <th>pos</th>\n",
       "      <th>neg</th>\n",
       "      <th>net</th>\n",
       "    </tr>\n",
       "  </thead>\n",
       "  <tbody>\n",
       "    <tr>\n",
       "      <th>0</th>\n",
       "      <td>210</td>\n",
       "      <td>186</td>\n",
       "      <td>40</td>\n",
       "    </tr>\n",
       "    <tr>\n",
       "      <th>1</th>\n",
       "      <td>189</td>\n",
       "      <td>172</td>\n",
       "      <td>35</td>\n",
       "    </tr>\n",
       "    <tr>\n",
       "      <th>2</th>\n",
       "      <td>174</td>\n",
       "      <td>175</td>\n",
       "      <td>20</td>\n",
       "    </tr>\n",
       "    <tr>\n",
       "      <th>3</th>\n",
       "      <td>174</td>\n",
       "      <td>189</td>\n",
       "      <td>35</td>\n",
       "    </tr>\n",
       "    <tr>\n",
       "      <th>4</th>\n",
       "      <td>135</td>\n",
       "      <td>183</td>\n",
       "      <td>22</td>\n",
       "    </tr>\n",
       "    <tr>\n",
       "      <th>5</th>\n",
       "      <td>116</td>\n",
       "      <td>150</td>\n",
       "      <td>26</td>\n",
       "    </tr>\n",
       "    <tr>\n",
       "      <th>6</th>\n",
       "      <td>84</td>\n",
       "      <td>97</td>\n",
       "      <td>18</td>\n",
       "    </tr>\n",
       "    <tr>\n",
       "      <th>7</th>\n",
       "      <td>80</td>\n",
       "      <td>103</td>\n",
       "      <td>11</td>\n",
       "    </tr>\n",
       "    <tr>\n",
       "      <th>8</th>\n",
       "      <td>95</td>\n",
       "      <td>111</td>\n",
       "      <td>13</td>\n",
       "    </tr>\n",
       "    <tr>\n",
       "      <th>9</th>\n",
       "      <td>84</td>\n",
       "      <td>97</td>\n",
       "      <td>20</td>\n",
       "    </tr>\n",
       "    <tr>\n",
       "      <th>10</th>\n",
       "      <td>78</td>\n",
       "      <td>92</td>\n",
       "      <td>15</td>\n",
       "    </tr>\n",
       "    <tr>\n",
       "      <th>11</th>\n",
       "      <td>89</td>\n",
       "      <td>124</td>\n",
       "      <td>19</td>\n",
       "    </tr>\n",
       "    <tr>\n",
       "      <th>12</th>\n",
       "      <td>89</td>\n",
       "      <td>131</td>\n",
       "      <td>14</td>\n",
       "    </tr>\n",
       "    <tr>\n",
       "      <th>13</th>\n",
       "      <td>101</td>\n",
       "      <td>129</td>\n",
       "      <td>23</td>\n",
       "    </tr>\n",
       "  </tbody>\n",
       "</table>\n",
       "</div>"
      ],
      "text/plain": [
       "    pos  neg  net\n",
       "0   210  186   40\n",
       "1   189  172   35\n",
       "2   174  175   20\n",
       "3   174  189   35\n",
       "4   135  183   22\n",
       "5   116  150   26\n",
       "6    84   97   18\n",
       "7    80  103   11\n",
       "8    95  111   13\n",
       "9    84   97   20\n",
       "10   78   92   15\n",
       "11   89  124   19\n",
       "12   89  131   14\n",
       "13  101  129   23"
      ]
     },
     "execution_count": 9,
     "metadata": {},
     "output_type": "execute_result"
    }
   ],
   "source": [
    "df_pic"
   ]
  },
  {
   "cell_type": "code",
   "execution_count": 10,
   "metadata": {},
   "outputs": [],
   "source": [
    "import numpy as np\n",
    "import matplotlib.pyplot as plt\n",
    "\n",
    "# 直接繪圖，毋須 plot.show()\n",
    "%matplotlib inline  "
   ]
  },
  {
   "cell_type": "markdown",
   "metadata": {},
   "source": [
    "# 畫圖"
   ]
  },
  {
   "cell_type": "code",
   "execution_count": 14,
   "metadata": {
    "scrolled": false
   },
   "outputs": [
    {
     "data": {
      "text/plain": [
       "<matplotlib.legend.Legend at 0x1a28dd7588>"
      ]
     },
     "execution_count": 14,
     "metadata": {},
     "output_type": "execute_result"
    },
    {
     "data": {
      "image/png": "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\n",
      "text/plain": [
       "<Figure size 720x432 with 1 Axes>"
      ]
     },
     "metadata": {
      "needs_background": "light"
     },
     "output_type": "display_data"
    }
   ],
   "source": [
    "N = len(year_pos_len)           # 柱子的個數\n",
    "ind = np.arange(N)    # 柱子的中心點位置\n",
    "width = 0.8           # 柱子的寬度\n",
    "\n",
    "plt.figure(figsize=(10,6))    # 圖區大小\n",
    "# c1, c2 c3 為變數值，前已設定，alpha為透明度，color 為顏色，bottom 為柱子的啟始點\n",
    "p1 = plt.bar(ind, year_pos_len, width, alpha = 0.3, color = 'blue' )   # p1 最下面\n",
    "p2 = plt.bar(ind, year_neg_len, width, bottom = year_pos_len, alpha = 0.5, color = 'yellow' )   # 在 c1 值上面疊加\n",
    "#p3 = plt.bar(ind, year_net_len, width, bottom = year_pos_len + year_neg_len, alpha=0.5,color='green' ) \n",
    "#p3 = plt.bar(ind, year_net_len, width, bottom = year_neg_len + year_pos_len  , alpha = 0.6, color = 'green' )\n",
    "\n",
    "#p1 = plt.bar(ind, c1, width, alpha=0.3, color='blue' )   # p1 最下面\n",
    "#p2 = plt.bar(ind, c2, width, bottom=c1, alpha=0.5,color='yellow' )   # 在 c1 值上面疊加\n",
    "#p3 = plt.bar(ind, c3, width, bottom=c1+c2, alpha=0.5,color='green' )  # 在 c1+c2 值上面疊加\n",
    "\n",
    "\n",
    "\n",
    "plt.ylabel('count')    # 縱軸文字\n",
    "plt.title('year')   # 標題\n",
    "x = range(14)\n",
    "new_year = ['2006', '2007', '2008', '2009', '2010', '2011', '2012', '2013', '2014', '2015', '2016', '2017', '2018', '2019']\n",
    "plt.xticks(x, new_year)   # 橫軸刻度標籤\n",
    "plt.legend((p1[0], p2[0]), ('pos_len', 'neg_len'))    # 圖例"
   ]
  },
  {
   "cell_type": "code",
   "execution_count": 15,
   "metadata": {},
   "outputs": [
    {
     "data": {
      "image/png": "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\n",
      "text/plain": [
       "<Figure size 720x432 with 1 Axes>"
      ]
     },
     "metadata": {
      "needs_background": "light"
     },
     "output_type": "display_data"
    }
   ],
   "source": [
    "import matplotlib.pyplot as plt\n",
    "\n",
    "plt.figure(figsize=(10,6))  \n",
    "\n",
    "months= [x for x in range(1,15)]\n",
    "\n",
    "mortgage= [210, 189, 174, 174, 135, 116, 84, 80, 95, 84, 78, 89, 89, 101]\n",
    "\n",
    "utilities= [186, 172, 175, 189, 183, 150, 97, 103, 111, 97, 92, 124, 131, 129]\n",
    "\n",
    "repairs= [40, 35, 20, 35, 22, 26, 18, 11, 13, 20, 15, 19, 14, 23]\n",
    "#year_pos_len = [210, 189, 174, 174, 135, 116, 84, 80, 95, 84, 78, 89, 89, 101]\n",
    "#year_neg_len = [186, 172, 175, 189, 183, 150, 97, 103, 111, 97, 92, 124, 131, 129]\n",
    "#year_net_len = [40, 35, 20, 35, 22, 26, 18, 11, 13, 20, 15, 19, 14, 23]\n",
    "\n",
    "plt.plot([],[], color='blue', label='mortgage')\n",
    "plt.plot([],[], color='orange', label='utilities')\n",
    "plt.plot([],[], color='brown', label='repairs')\n",
    "\n",
    "\n",
    "plt.stackplot(months, mortgage, utilities, repairs, colors=['blue', 'orange', 'brown'])\n",
    "\n",
    "plt.legend()\n",
    "\n",
    "x = range(14)\n",
    "new_year = ['2006', '2007', '2008', '2009', '2010', '2011', '2012', '2013', '2014', '2015', '2016', '2017', '2018', '2019']\n",
    "\n",
    "plt.title('Household Expenses')\n",
    "plt.xlabel('Months of the year')\n",
    "plt.ylabel('Cost')\n",
    "\n",
    "plt.show()"
   ]
  },
  {
   "cell_type": "markdown",
   "metadata": {},
   "source": [
    "# 開始分析重複歌曲3萬多首"
   ]
  },
  {
   "cell_type": "code",
   "execution_count": 16,
   "metadata": {},
   "outputs": [
    {
     "data": {
      "text/plain": [
       "0        不要 再 哭泣 這幕 多麼 熟悉 緊握著 手 彼此 都 捨不得 分離 每次 想 開口 但 不...\n",
       "1        花還 香香的 時間 直去 回憶 真 美麗 想著 你 直 想著 你 你在 我 心底 變成 秘密...\n",
       "2        我心 蹦蹦跳跳 靈魂 快要 出竅 這 感覺 真好 你 對著 我 微笑 溫度 越來越 高 怎麼...\n",
       "3        我 不知不覺 又 徘徊 在 從前 秋風 悄悄的 呼喚 聽來 盡是 孤單 落葉 期盼 片片 左...\n",
       "4        夜 好深 紙窗 裏 亮著 那 徹夜 等候 你 為我 點的 燭火 不過 是次 邂逅 紅樓 那場...\n",
       "                               ...                        \n",
       "36388    那年 秋天 你在 月台 叫我 要 加油 飄忽 眼神 以為是 不捨 稀鬆 始末 早已 安排 在...\n",
       "36389    是不是 我 太 單純 壞 好 崇拜 想得到 他 完整的 愛但 沒 簡單 頭髮 留長 放下來 ...\n",
       "36390    你 不敢 看我 更讓 我 難過 沉默 在 他們 放的 煙火 我 就像 煙火 瘋狂 燃燒 還是...\n",
       "36391    塞納河畔 左岸 咖啡 我 手杯 品嚐 美 留下 唇 印的 嘴 花店 玫瑰 名字 寫錯 誰 風...\n",
       "36392    三更 半 暝 又擱 睏 袂 去 最近的 日子 毋 是很 歡喜 想 打電話 俾 你 撒嬌 幾句...\n",
       "Name: token, Length: 36393, dtype: object"
      ]
     },
     "execution_count": 16,
     "metadata": {},
     "output_type": "execute_result"
    }
   ],
   "source": [
    "df[\"token\"]"
   ]
  },
  {
   "cell_type": "code",
   "execution_count": 17,
   "metadata": {},
   "outputs": [],
   "source": [
    "docs = list(df.token)"
   ]
  },
  {
   "cell_type": "markdown",
   "metadata": {},
   "source": [
    "# 使用k-means分析"
   ]
  },
  {
   "cell_type": "code",
   "execution_count": 18,
   "metadata": {
    "scrolled": true
   },
   "outputs": [
    {
     "name": "stdout",
     "output_type": "stream",
     "text": [
      "能解釋的變異 [0.01571898 0.00751823 0.00714872 0.00629882 0.00605204 0.00590845\n",
      " 0.0058115  0.00570216 0.00516991 0.00509466 0.00493848 0.0047107\n",
      " 0.00458944 0.00447748 0.00438036 0.00434824 0.00414358 0.00410899\n",
      " 0.00401675 0.00400378 0.0039496  0.00380612 0.00375225 0.00363451\n",
      " 0.00354989 0.00346453 0.00345714 0.00337048 0.00331262 0.00328911\n",
      " 0.00323019 0.00321059 0.00315505 0.00313728 0.00306142 0.00304331\n",
      " 0.00296896 0.0029384  0.00290141 0.00288692 0.00286188 0.00283494\n",
      " 0.00280395 0.00279829 0.00273904 0.00273715 0.00272843 0.00269352\n",
      " 0.00266834 0.00265871 0.00264858 0.00263246 0.00261997 0.00259573\n",
      " 0.0025801  0.00257003 0.0025375  0.00252844 0.00251944 0.0024942\n",
      " 0.00247676 0.00247219 0.00245747 0.00244224 0.00243491 0.00241657\n",
      " 0.00239615 0.00238838 0.00236978 0.00236074 0.00234593 0.00233424\n",
      " 0.00231909 0.00230986 0.00228982 0.00228493 0.00225523 0.00224803\n",
      " 0.00222772 0.00222432 0.00220993 0.00219955 0.00218896 0.00216288\n",
      " 0.00215907 0.00214788 0.0021422  0.00213157 0.00212239 0.00210746\n",
      " 0.00208962 0.00206542 0.0020569  0.0020489  0.00203856 0.00202974\n",
      " 0.00201225 0.00200231 0.002      0.00198214]\n",
      "能解釋的變異% [0.01439986 0.00688731 0.00654881 0.00577023 0.00554416 0.00541262\n",
      " 0.00532381 0.00522364 0.00473606 0.00466712 0.00452405 0.00431539\n",
      " 0.0042043  0.00410173 0.00401276 0.00398334 0.00379586 0.00376416\n",
      " 0.00367967 0.00366779 0.00361815 0.00348672 0.00343737 0.0033295\n",
      " 0.00325198 0.00317379 0.00316702 0.00308763 0.00303463 0.00301309\n",
      " 0.00295912 0.00294116 0.00289028 0.002874   0.00280451 0.00278792\n",
      " 0.00271981 0.00269182 0.00265792 0.00264465 0.00262171 0.00259703\n",
      " 0.00256865 0.00256346 0.00250918 0.00250745 0.00249946 0.00246749\n",
      " 0.00244441 0.0024356  0.00242632 0.00241155 0.00240011 0.0023779\n",
      " 0.00236358 0.00235435 0.00232456 0.00231626 0.00230801 0.00228489\n",
      " 0.00226891 0.00226472 0.00225124 0.00223729 0.00223057 0.00221377\n",
      " 0.00219507 0.00218795 0.00217091 0.00216263 0.00214906 0.00213836\n",
      " 0.00212447 0.00211602 0.00209766 0.00209318 0.00206597 0.00205938\n",
      " 0.00204077 0.00203766 0.00202447 0.00201497 0.00200527 0.00198137\n",
      " 0.00197788 0.00196764 0.00196243 0.00195269 0.00194428 0.00193061\n",
      " 0.00191426 0.00189209 0.00188429 0.00187696 0.00186749 0.00185941\n",
      " 0.00184339 0.00183428 0.00183216 0.0018158 ]\n",
      "能解釋的變異%總和 0.2954029745589593\n"
     ]
    }
   ],
   "source": [
    "# documents 為 list 元素為 string\n",
    "num_i=100    # number of concepts\n",
    "num_t=10    # number of items shown\n",
    "\n",
    "# 或者 tfidf 加權 ****注意單辭被排除在外\n",
    "vectorizer2 = TfidfVectorizer(min_df = 1,ngram_range= (1,1) )  \n",
    "tfidf = vectorizer2.fit_transform(docs) \n",
    "\n",
    "# 字詞文章矩陣，轉置 **** 注意先轉置\n",
    "tdm_tfidf = tfidf.transpose() \n",
    "\n",
    "# SVD 降維以後的結果 \n",
    "svd = TruncatedSVD(num_i, algorithm = 'arpack')   # object    \n",
    "\n",
    "# 各字詞在各維度上的投影，亦即將字詞變成向量\n",
    "lsa_tfidf = svd.fit_transform(tdm_tfidf)  # numpy array  \n",
    "\n",
    "# 標準化\n",
    "lsa_tfidf_n = Normalizer(copy=False).fit_transform(lsa_tfidf)   \n",
    "\n",
    "# 字詞的 list\n",
    "terms = vectorizer2.get_feature_names()   \n",
    "\n",
    "# 降維後所能解釋的變異\n",
    "v1 = svd.explained_variance_\n",
    "v2 = svd.explained_variance_ratio_\n",
    "v3 = svd.explained_variance_ratio_.sum()\n",
    "print ('能解釋的變異',v1)\n",
    "print ('能解釋的變異%',v2)\n",
    "print ('能解釋的變異%總和',v3)"
   ]
  },
  {
   "cell_type": "code",
   "execution_count": 19,
   "metadata": {},
   "outputs": [],
   "source": [
    "# 篩選字詞，tfidf > crit 者 視需要而定\n",
    "feature = [ ]\n",
    "for t in tfidf:\n",
    "    a = t.toarray()\n",
    "    term = [ ]    \n",
    "    n = -1\n",
    "    for v in a[0]:\n",
    "        n += 1      \n",
    "        if v > 0.07:           \n",
    "            term.append(terms[n])\n",
    "    string = ' '.join(term)        \n",
    "    feature.append(string)"
   ]
  },
  {
   "cell_type": "code",
   "execution_count": 20,
   "metadata": {},
   "outputs": [
    {
     "name": "stdout",
     "output_type": "stream",
     "text": [
      "不要 再 哭泣 這幕 多麼 熟悉 緊握著 手 彼此 都 捨不得 分離 每次 想 開口 但 不如 保持 安靜 給我 分鐘 專心 好好 欣賞 美 幸福 搭配 悲傷 同時 在 我心 交叉 挫折 眼淚 不能 測試 愛的 重量 付出 愛收 不 回還 欠你的 我不能 給 別把 我心 也 帶走 去 跟隨 每次 和你 分開 深深 被你 打敗 每次 放棄 溫柔 痛苦 難以 釋懷 每次 和你 分開 每次 愛情 滋味 此刻 我 終於 最 明白 幸福 搭配 悲傷 同時 在 我心 交叉 挫折 眼淚 不能 測試 愛的 重量 付出 愛收 不 回還 欠你的 我不能 給 我才 明白 愛最 真實的 滋味 每次 和你 分開 深深 被你 打敗 每次 放棄 溫柔 痛苦 難以 釋懷 每次 和你 分開 每次 愛情 滋味 此刻 我 終於 最 明白 休息 下 吧 每次 和你 分開 深深 被你 打敗 每次 放棄 溫柔 痛苦 難以 釋懷 每次 和你 分開 每次 愛情 滋味 此刻 我 終於 最 明白 結束 囉\n",
      "********\n",
      "交叉 付出 分開 同時 和你 回還 悲傷 愛情 愛收 愛最 我不能 我心 打敗 挫折 搭配 放棄 明白 欠你的 此刻 每次 深深 測試 溫柔 滋味 痛苦 終於 被你 這幕 釋懷 重量 難以\n"
     ]
    }
   ],
   "source": [
    "# select features 與原始文字 比較\n",
    "n = 0\n",
    "print (df.token[n])\n",
    "print (\"********\")\n",
    "print (feature[n])"
   ]
  },
  {
   "cell_type": "code",
   "execution_count": 21,
   "metadata": {},
   "outputs": [],
   "source": [
    "df['feature'] = feature"
   ]
  },
  {
   "cell_type": "code",
   "execution_count": 22,
   "metadata": {
    "scrolled": true
   },
   "outputs": [
    {
     "data": {
      "text/html": [
       "<div>\n",
       "<style scoped>\n",
       "    .dataframe tbody tr th:only-of-type {\n",
       "        vertical-align: middle;\n",
       "    }\n",
       "\n",
       "    .dataframe tbody tr th {\n",
       "        vertical-align: top;\n",
       "    }\n",
       "\n",
       "    .dataframe thead th {\n",
       "        text-align: right;\n",
       "    }\n",
       "</style>\n",
       "<table border=\"1\" class=\"dataframe\">\n",
       "  <thead>\n",
       "    <tr style=\"text-align: right;\">\n",
       "      <th></th>\n",
       "      <th>歌名</th>\n",
       "      <th>歌手</th>\n",
       "      <th>周排名</th>\n",
       "      <th>周數</th>\n",
       "      <th>token</th>\n",
       "      <th>情緒</th>\n",
       "      <th>feature</th>\n",
       "    </tr>\n",
       "  </thead>\n",
       "  <tbody>\n",
       "    <tr>\n",
       "      <th>0</th>\n",
       "      <td>Kiss Goodbye</td>\n",
       "      <td>王力宏</td>\n",
       "      <td>1</td>\n",
       "      <td>2006w1</td>\n",
       "      <td>不要 再 哭泣 這幕 多麼 熟悉 緊握著 手 彼此 都 捨不得 分離 每次 想 開口 但 不...</td>\n",
       "      <td>Negative</td>\n",
       "      <td>交叉 付出 分開 同時 和你 回還 悲傷 愛情 愛收 愛最 我不能 我心 打敗 挫折 搭配 ...</td>\n",
       "    </tr>\n",
       "    <tr>\n",
       "      <th>1</th>\n",
       "      <td>我會好好的</td>\n",
       "      <td>王心凌</td>\n",
       "      <td>2</td>\n",
       "      <td>2006w1</td>\n",
       "      <td>花還 香香的 時間 直去 回憶 真 美麗 想著 你 直 想著 你 你在 我 心底 變成 秘密...</td>\n",
       "      <td>Positive</td>\n",
       "      <td>到現在 勉強的 友情 奇怪的 幸福 心中 心底 想著 愛情 愛著 我知道 敷衍 是什麼 深深...</td>\n",
       "    </tr>\n",
       "    <tr>\n",
       "      <th>2</th>\n",
       "      <td>睫毛彎彎</td>\n",
       "      <td>王心凌</td>\n",
       "      <td>3</td>\n",
       "      <td>2006w1</td>\n",
       "      <td>我心 蹦蹦跳跳 靈魂 快要 出竅 這 感覺 真好 你 對著 我 微笑 溫度 越來越 高 怎麼...</td>\n",
       "      <td>Positive</td>\n",
       "      <td>上了 世界 出竅 卻說 吹的 嘴邊 大風 好久不見 好喜歡 好玩 對著 小鹿 彎彎 微笑 心...</td>\n",
       "    </tr>\n",
       "    <tr>\n",
       "      <th>3</th>\n",
       "      <td>彩虹天堂</td>\n",
       "      <td>劉畊宏</td>\n",
       "      <td>4</td>\n",
       "      <td>2006w1</td>\n",
       "      <td>我 不知不覺 又 徘徊 在 從前 秋風 悄悄的 呼喚 聽來 盡是 孤單 落葉 期盼 片片 左...</td>\n",
       "      <td>Negative</td>\n",
       "      <td>不斷 不聞不問 兩個人 好過 幸福 往有 愛在 憂傷 房間 找不到 拖延 掙扎 擺脫 方向 ...</td>\n",
       "    </tr>\n",
       "    <tr>\n",
       "      <th>4</th>\n",
       "      <td>花田錯</td>\n",
       "      <td>王力宏</td>\n",
       "      <td>5</td>\n",
       "      <td>2006w1</td>\n",
       "      <td>夜 好深 紙窗 裏 亮著 那 徹夜 等候 你 為我 點的 燭火 不過 是次 邂逅 紅樓 那場...</td>\n",
       "      <td>Negative</td>\n",
       "      <td>全部 多情 山水 徹夜 忘掉 打擾 無聊 煎熬 犯了錯 犯錯 田裏 田裡 破曉 花在 說好 ...</td>\n",
       "    </tr>\n",
       "    <tr>\n",
       "      <th>...</th>\n",
       "      <td>...</td>\n",
       "      <td>...</td>\n",
       "      <td>...</td>\n",
       "      <td>...</td>\n",
       "      <td>...</td>\n",
       "      <td>...</td>\n",
       "      <td>...</td>\n",
       "    </tr>\n",
       "    <tr>\n",
       "      <th>36388</th>\n",
       "      <td>兵變</td>\n",
       "      <td>邱鋒澤, 陳零九, 黃偉晉 &amp; 小賴</td>\n",
       "      <td>46</td>\n",
       "      <td>2019w52</td>\n",
       "      <td>那年 秋天 你在 月台 叫我 要 加油 飄忽 眼神 以為是 不捨 稀鬆 始末 早已 安排 在...</td>\n",
       "      <td>Negative</td>\n",
       "      <td>不成熟 不曾 以前 以為是 任由 內心 到底 反駁 咆哮 執著 失聯 始末 害怕 我連 戲劇...</td>\n",
       "    </tr>\n",
       "    <tr>\n",
       "      <th>36389</th>\n",
       "      <td>Love is Love</td>\n",
       "      <td>楊丞琳 (Rainie Yang)</td>\n",
       "      <td>47</td>\n",
       "      <td>2019w52</td>\n",
       "      <td>是不是 我 太 單純 壞 好 崇拜 想得到 他 完整的 愛但 沒 簡單 頭髮 留長 放下來 ...</td>\n",
       "      <td>Netural</td>\n",
       "      <td>下懷 不該 交代 全部 凌晨 唇彩 好幾遍 完整的 已改 從沒 怎麼辦 想得到 想過 愛上 ...</td>\n",
       "    </tr>\n",
       "    <tr>\n",
       "      <th>36390</th>\n",
       "      <td>再見煙火 (Goodbye Firework)</td>\n",
       "      <td>卓義峯 (Yifeng Zhuo)</td>\n",
       "      <td>48</td>\n",
       "      <td>2019w52</td>\n",
       "      <td>你 不敢 看我 更讓 我 難過 沉默 在 他們 放的 煙火 我 就像 煙火 瘋狂 燃燒 還是...</td>\n",
       "      <td>Negative</td>\n",
       "      <td>不下 之中 停在 再見 大地 天空 安靜的 帶走 很重 怎麼了 我個 我最 找回 把我 放的...</td>\n",
       "    </tr>\n",
       "    <tr>\n",
       "      <th>36391</th>\n",
       "      <td>告白氣球</td>\n",
       "      <td>周杰倫 (Jay Chou)</td>\n",
       "      <td>49</td>\n",
       "      <td>2019w52</td>\n",
       "      <td>塞納河畔 左岸 咖啡 我 手杯 品嚐 美 留下 唇 印的 嘴 花店 玫瑰 名字 寫錯 誰 風...</td>\n",
       "      <td>Positive</td>\n",
       "      <td>不需 任性 你就 全世界 印的 只要 名字 咖啡 品嚐 塞納河畔 天上飛 天起 害怕 寫錯 ...</td>\n",
       "    </tr>\n",
       "    <tr>\n",
       "      <th>36392</th>\n",
       "      <td>彼個所在 (Heaven)</td>\n",
       "      <td>魏如萱 (waa wei)</td>\n",
       "      <td>50</td>\n",
       "      <td>2019w52</td>\n",
       "      <td>三更 半 暝 又擱 睏 袂 去 最近的 日子 毋 是很 歡喜 想 打電話 俾 你 撒嬌 幾句...</td>\n",
       "      <td>Netural</td>\n",
       "      <td>三更 下著雨 佇遐敢 住的 何時 又擱 哀愁 大霧 對不對 就做 就去 幾句 彼個 很想 想...</td>\n",
       "    </tr>\n",
       "  </tbody>\n",
       "</table>\n",
       "<p>36393 rows × 7 columns</p>\n",
       "</div>"
      ],
      "text/plain": [
       "                            歌名                  歌手  周排名       周數  \\\n",
       "0                 Kiss Goodbye                 王力宏    1   2006w1   \n",
       "1                        我會好好的                 王心凌    2   2006w1   \n",
       "2                         睫毛彎彎                 王心凌    3   2006w1   \n",
       "3                         彩虹天堂                 劉畊宏    4   2006w1   \n",
       "4                          花田錯                 王力宏    5   2006w1   \n",
       "...                        ...                 ...  ...      ...   \n",
       "36388                       兵變  邱鋒澤, 陳零九, 黃偉晉 & 小賴   46  2019w52   \n",
       "36389             Love is Love   楊丞琳 (Rainie Yang)   47  2019w52   \n",
       "36390  再見煙火 (Goodbye Firework)   卓義峯 (Yifeng Zhuo)   48  2019w52   \n",
       "36391                     告白氣球      周杰倫 (Jay Chou)   49  2019w52   \n",
       "36392            彼個所在 (Heaven)       魏如萱 (waa wei)   50  2019w52   \n",
       "\n",
       "                                                   token        情緒  \\\n",
       "0      不要 再 哭泣 這幕 多麼 熟悉 緊握著 手 彼此 都 捨不得 分離 每次 想 開口 但 不...  Negative   \n",
       "1      花還 香香的 時間 直去 回憶 真 美麗 想著 你 直 想著 你 你在 我 心底 變成 秘密...  Positive   \n",
       "2      我心 蹦蹦跳跳 靈魂 快要 出竅 這 感覺 真好 你 對著 我 微笑 溫度 越來越 高 怎麼...  Positive   \n",
       "3      我 不知不覺 又 徘徊 在 從前 秋風 悄悄的 呼喚 聽來 盡是 孤單 落葉 期盼 片片 左...  Negative   \n",
       "4      夜 好深 紙窗 裏 亮著 那 徹夜 等候 你 為我 點的 燭火 不過 是次 邂逅 紅樓 那場...  Negative   \n",
       "...                                                  ...       ...   \n",
       "36388  那年 秋天 你在 月台 叫我 要 加油 飄忽 眼神 以為是 不捨 稀鬆 始末 早已 安排 在...  Negative   \n",
       "36389  是不是 我 太 單純 壞 好 崇拜 想得到 他 完整的 愛但 沒 簡單 頭髮 留長 放下來 ...   Netural   \n",
       "36390  你 不敢 看我 更讓 我 難過 沉默 在 他們 放的 煙火 我 就像 煙火 瘋狂 燃燒 還是...  Negative   \n",
       "36391  塞納河畔 左岸 咖啡 我 手杯 品嚐 美 留下 唇 印的 嘴 花店 玫瑰 名字 寫錯 誰 風...  Positive   \n",
       "36392  三更 半 暝 又擱 睏 袂 去 最近的 日子 毋 是很 歡喜 想 打電話 俾 你 撒嬌 幾句...   Netural   \n",
       "\n",
       "                                                 feature  \n",
       "0      交叉 付出 分開 同時 和你 回還 悲傷 愛情 愛收 愛最 我不能 我心 打敗 挫折 搭配 ...  \n",
       "1      到現在 勉強的 友情 奇怪的 幸福 心中 心底 想著 愛情 愛著 我知道 敷衍 是什麼 深深...  \n",
       "2      上了 世界 出竅 卻說 吹的 嘴邊 大風 好久不見 好喜歡 好玩 對著 小鹿 彎彎 微笑 心...  \n",
       "3      不斷 不聞不問 兩個人 好過 幸福 往有 愛在 憂傷 房間 找不到 拖延 掙扎 擺脫 方向 ...  \n",
       "4      全部 多情 山水 徹夜 忘掉 打擾 無聊 煎熬 犯了錯 犯錯 田裏 田裡 破曉 花在 說好 ...  \n",
       "...                                                  ...  \n",
       "36388  不成熟 不曾 以前 以為是 任由 內心 到底 反駁 咆哮 執著 失聯 始末 害怕 我連 戲劇...  \n",
       "36389  下懷 不該 交代 全部 凌晨 唇彩 好幾遍 完整的 已改 從沒 怎麼辦 想得到 想過 愛上 ...  \n",
       "36390  不下 之中 停在 再見 大地 天空 安靜的 帶走 很重 怎麼了 我個 我最 找回 把我 放的...  \n",
       "36391  不需 任性 你就 全世界 印的 只要 名字 咖啡 品嚐 塞納河畔 天上飛 天起 害怕 寫錯 ...  \n",
       "36392  三更 下著雨 佇遐敢 住的 何時 又擱 哀愁 大霧 對不對 就做 就去 幾句 彼個 很想 想...  \n",
       "\n",
       "[36393 rows x 7 columns]"
      ]
     },
     "execution_count": 22,
     "metadata": {},
     "output_type": "execute_result"
    }
   ],
   "source": [
    "df"
   ]
  },
  {
   "cell_type": "code",
   "execution_count": 23,
   "metadata": {},
   "outputs": [
    {
     "data": {
      "text/plain": [ "這邊刪除許多文字資料以方便閱讀"
       "['交叉 付出 分開 同時 和你 回還 悲傷 愛情 愛收 愛最 我不能 我心 打敗 挫折 搭配 放棄 明白 欠你的 此刻 每次 深深 測試 溫柔 滋味 痛苦 終於 被你 這幕 釋懷 重量 難以',\n",
       " '到現在 勉強的 友情 奇怪的 幸福 心中 心底 想著 愛情 愛著 我知道 敷衍 是什麼 深深 清楚 無須 直去 花還 苦苦 要你 要說 這麼做 那是 都可以 難受 香香的',\n",
       " '上了 世界 出竅 卻說 吹的 嘴邊 大風 好久不見 好喜歡 好玩 對著 小鹿 彎彎 微笑 心動 心情 心扉 快要 怎麼會 怎麼辦 我心 才好 明明 氣氛 浪漫 溫度 滋味 甜美 盪鞦韆 真好 眼睛 第次面 膽小鬼 臉上 蘋果 話說 變得 越來越 跳跳 蹦蹦跳跳 躲貓貓 轉彎 陪伴 需要',\n",
       " '不斷 不聞不問 兩個人 好過 幸福 往有 愛在 憂傷 房間 找不到 拖延 掙扎 擺脫 方向 星光 有你 無妄 無望 燦爛的 白髮蒼蒼 直到 相守 空談 糾纏 聲聲 自由的 觸摸 身旁 輕嘆 關在 飛翔 點被',\n",
       " '佛朗 前的 只有 回應 孤單 寂靜 對著 小徑 帶著 彩繪 思議 想念 懸在 抒情的 明哥 濃郁 火紅 玻璃 突然 突然的 窗櫺 綠蔭 舞衣 身影 遠行 酒瓶 馬德里',\n",
       " '上面 不見 並者 中箭 傻笑 再將 初戀 同邊 呵氣 圈霧 型的 夢會 好幾遍 完全花 實現 寧願 很明顯 很遠 想膩 我將 我用 房間 指尖 收斂 教堂 春天 死心眼 溫習 漸漸 照片 玻璃 畫十字 畫心 發芽 碎碎念 祈禱 空出 糾纏 翻字典 聽不進 聽見 肩並 胸前 若愛有 蔓延 觸電 許願 送上 這趟 那年 閉眼 靠著 顏色 風險 鮮豔 默背',\n",
       " '人才 傾城 女神 封存 崇拜 幻境 愛情 揭開 是種 未來 本能 此分 無限的 玩美 現在 用來 男人 精采 要你 說誰 誰是 軀體 過來 釋放 驚艷',\n",
       " '下個 不再 不過 也許是 人們 代表 休止符 回音 好久 寂寞 寫下 尾奏 希望 從那 復活 情人節 愛會 愛說 成熟 我和 折磨 斷了線 於是 明白 時間 最後 未來 每個 永遠 漸弱 漸遠 狂歡 當下 瞬間 絕望 聆聽 自由 見面 變成 身邊 逐漸 過去 過想 還會 除非 離人節',\n",
       " '你已經 動的 危險 唇印 唇唇 完美 微笑 意亂 擺平 眼花 神迷 純純 絕技 被我 越過 關係 頭暈',\n",
       " '不問 來過 出走 向右 向左 在這裡 夠我 天空 太收 太放 太輕 太重 守候 定是 寂寞 就像 很像 想起 愛上 愛我 我等 手中 泡沫 理由 等你 總有 自由 角落 都不在 都有 重重',\n",
       " '不說 不願 之間 今夜 今晚 任性的 你定 停留 傷心的 傾聽 冷靜 劃過 句話 唯我 天空 天際 她們 妳是 往北方 很多 忍不住 忍受 愛已 我連 放開手 星光 最美 流星 海洋 湖泊 無法 片片 獨自 留下 看著 空氣 美的 聽過 葉落 融化 裡看 距離 過了 閃爍 隔著 風吹 飄下 默默',\n",
       " '不夠 不朽 仍在 分享 分手 即將 和平 哀愁 多年 失意 左右 我怕 捨不得 掌紋 時候 曾經 朋友 望穿秋水 漫遊 生死關頭 留在 眉頭 眼看 硬著 自由 記住 請你 還你 難受 難過 飛揚 饅頭 點滴',\n",
       " '何不 你又 傾巢而出 功夫 加入 加快腳步 又要 吃素 好像 愛你 愛慕 拔刀相助 指數 數數 樹木 次數 瀑布 無辜 與生俱來 賭睹 連署 重力加速度 電流',\n",
       " '不再 不留 並不是 仍在 以後 你好嗎 保留 停了 傷痛 全新 再見面 卸下 原來 單純 地回 坦承 坦白說 坦誠 學會 就這樣 就這麼 尷尬 已經是 彼此 微笑 快樂 應著 推翻 放下 時間 最初的 朋友 沉默 沒了 珍惜 當時 真的是 瞎聊 笑了 簡單 累積 終於 能夠 著不擾 說好了 負荷 這刻 過了 遺憾 都不 開場白',\n",
       " '下定 不再 乾淨 個性 傷心 劇情 升起 名單 呼吸 命運 嘆息 場景 壯麗 太陽 委曲 孩子氣 心跳 心還 忍耐 忍耐的 愛我 成全 抽身 改變 新的 明天 昨夜 最後 最終 會有 有人 期許 洩漏 活的 淚滴 為你 疼痛 終於 耳語 能為 蒸發 越真越 那些 長久 開場白 雖然',\n",
       " '不想 乖乖 作愛 你愛 使壞 來的 別說 去的 夠壞 夠壞連 大獎 想愛 想要 感覺 我不 我看 我罰 時代 最靠近 沒人 活該 燒到 玩火 當個 被愛 這不是 還不夠 防禦 難以',\n",
       " '任性的 低腰褲 來接 來臨 俏皮 催眠 像般 初戀 唇蜜 四季 太陽雨 好天氣 射穿 彩虹 心情 愛情 戀愛 成天 搭上 搭乘 放學 教室 旁的 校門口 棒球帽 淘氣 淡藍 烏雲 班牌 甜蜜 秘密 穿梭 粉色 臉頰 般的 藍天 裡偷 訓導主任 趕走 躲在 載到 載著 透露 鑰匙 陷入 陷阱 飄起 魔力',\n",
       " '不會 不看 不能 任憑 但願 來回 依偎 只願 回來 妳是 季節 孤獨 守護 將來 幸福 快樂的 愛情 愛最苦 成為 我想 我會 挺得 撤退 日出 最大的 最深 歸宿 殘酷 永遠 然而 生命 的是 直接 等著 義無反顧 落到 開始 雙臂 離開 風雪',\n",
       " '不在乎 不就 不玩 不顧 也能 何苦 你們 假裝 別看 別讓 到底 動怒 和我 哭雙 在乎 大聲 幸福 得到 心軟 我最 星星 曖昧 有人 朋友 模糊 清楚 照顧 獨處 男友 盯著 真愛 眼睛 結束 義氣 請你 遇到 遙遠 陷入 隊伍',\n",
       " '不如 不要 乾淨俐落 人常 似乎 個人 分手 加上 只想 坐在 孤單 就算 已到 彼此彼此 愛火 我猜 折磨 沉默 活口 淪落 無話可說 爭吵 生活 留下 盡頭 知道 結果 緊握 繼續 至少 身後 闖禍 雙手 靜靜',\n",
       " '也有 你去 便利商店 只握 只願 喜歡的 宇宙 安心 就算 情不自禁 想要 意義 感到 手上 手拉 擁抱 放開 最大 有了 未來 東西 毀滅 海水 爆炸 發現了 著手 蒸發 記憶裡 誰也 買不到 關係 陪著 默契 點滴',\n",
       " '也有 你去 便利商店 只握 只願 喜歡的 宇宙 安心 就算 情不自禁 想要 意義 感到 手上 手拉 擁抱 放開 最大 有了 未來 東西 毀滅 海水 爆炸 發現了 著手 蒸發 記憶裡 誰也 買不到 關係 陪著 默契 點滴',\n",
       " '不怕累 不要 人海 以為 來風 依然 只要 吵鬧 回來 在我的 堅強的 好好 妳會 孤獨的 守候 後悔 心在 感覺 擁擠的 擦去 整個 明白 星海 晚上 望著 灰色的 無所謂 留到 發呆 胸懷 臉上 要將 讓它 走在 身邊 遙遠 還在 都不 門外',\n",
       " '下在 不敢 事跡 什麼地方 倉糧 六馬 剩下的 勇敢的 北方 十二 向南 唱歌 在那 天藍色 家鄉 撐到 敗軍 早就 棄守 歸來 灰色的 為你 烽火連天 眼前 眼淚 眼睛 睡在 等待 美的 習慣 肩上 背著光 胡琴 能量 良人 赤壁 身邊 遠去 遠方 還能 那刻 那天 長江 面對 驕傲的',\n",
       " '不出來 不愛 不明白 不清楚 不管 也許 停過 多少 失去了 如何 如此 存在 尾奏 巷口 後來 怎能說 悲哀 愛我 愛與 我才 我還 抹空 搬走 明白 期待 溫和 為你 當然 等待 經過 耐心 語氣 辯白 這不是 這位 都要 難道',\n",
       " '下弦月 依舊 冬天 冬眠 切合 別後 只恨 完嚕 幾千 心頭 想再 懸念 扎眼 折磨 收聽 春天 暖和 有沒有 柳絮 條線 淚漣漣 滿天 生死相許 眉頭 管不住 結合 緣合 花都 苦澀 藕斷絲連 說出 講的 讓點 趕下 逃不掉 長打 離愁 顆心種',\n",
       " '不小心 不會 也許 何時 你會 保護 個人 兩邊 分隔 割破 回憶起 地球 守候 小傷 小時候 就能 就走 微笑 心中 心痛 想我 感受 慢慢 手指頭 才能夠 找到 流動 流淚 溫柔 為了 為你 熟悉 牽著 現在 盼望 窗前 總會 能夠 見面 越來越 身邊 這個 這個時候 這樣 長大 閉上眼睛 離開',\n",
       " '下著雨 不會有 不知道 乾乾的 但是有 你我 你是否 來不及 傷心 像我 到底在 又有 反正 可惜 哪裡 在想 太多的 好想你 如果 從何說起 心情 情緒 想說的 愛你 現在 甚麼 眼睛 窗外 表情 過去 適當的 還是要 開始',\n",
       " '不在 不愛 不知 不過是 並不是 並沒有 依賴 停下來 只想 可愛 可能 喧鬧 在旁 已經 徘徊 忘了 想你 愛我 愛與 我想 找個 搖擺 明白 時鐘 替代 期待 無奈 突然 被愛 連風 還不夠 都說 醒來 電話 靜靜',\n",
       " '下個 不須 之間 他能 兩人 女孩 安排 定會 對的 就會 巧合 平凡 平凡的 很快 從那 思念 想像 意外 我問 我心 有個 有沒有 某天 某年 漣漪 相盼 相連 等份 能開 裡面 許下 走進 遇上愛 那天 鑰匙 願心 驚喜 默契',\n",
       " '但是 停愛 別問 古意 呼吸 唱歌 妳是 小眼睛 帥氣 幸運 幾公斤 快要 我不是 我不能 我別 我愛 我愛你 抱起 是我 沒問題 洗衣 燒飯 真古椎 真的是 起愛 輕輕',\n",
       " ...]"
      ]
     },
     "execution_count": 23,
     "metadata": {},
     "output_type": "execute_result"
    }
   ],
   "source": [
    "# 引數 seg_list 文件，list of documents\n",
    "seg_list = [ ]\n",
    "for d in df['feature']:\n",
    "    if type(d) != float:\n",
    "        seg_list.append(d)\n",
    "    else:\n",
    "        seg_list.append(\"\")\n",
    "seg_list"
   ]
  },
  {
   "cell_type": "code",
   "execution_count": 24,
   "metadata": {},
   "outputs": [],
   "source": [
    "# Tfidf 轉換，文章字詞矩陣(dtm)    \n",
    "vectorizer = TfidfVectorizer(use_idf = True, ngram_range = (1,1))\n",
    "dtm = vectorizer.fit_transform(seg_list) \n",
    "\n",
    "# SVD 降維， #########################################\n",
    "num_i =100\n",
    "svd = TruncatedSVD(num_i, algorithm = 'arpack')   # object\n",
    "\n",
    "# dtm_lsa, 每篇文章在各維度上的投影，\n",
    "dtm_lsa = svd.fit_transform(dtm)  # numpy array   \n",
    "\n",
    "# 標準化 dtm_lsa_n\n",
    "dtm_lsa_n = Normalizer(copy = False).fit_transform(dtm_lsa)\n",
    "\n",
    "# explained_variance_ratio\n",
    "ratio = svd.explained_variance_ratio_    \n",
    "\n",
    "# 字詞的編號\n",
    "terms = vectorizer.vocabulary_"
   ]
  },
  {
   "cell_type": "code",
   "execution_count": 25,
   "metadata": {},
   "outputs": [
    {
     "name": "stdout",
     "output_type": "stream",
     "text": [
      "[]\n"
     ]
    },
    {
     "data": {
      "text/plain": [
       "36393"
      ]
     },
     "execution_count": 25,
     "metadata": {},
     "output_type": "execute_result"
    }
   ],
   "source": [
    "# 刪除 features 無值者\n",
    "del_set = [ ]\n",
    "for n in range(len(list(df.feature))):\n",
    "    if type(list(df.feature)[n]) != float:\n",
    "        if len(list(df.feature)[n]) == 0:\n",
    "            del_set.append(n)      \n",
    "    else:\n",
    "        del_set.append(n)\n",
    "print (del_set)\n",
    "df.drop(axis = 1, index = del_set, inplace = True)\n",
    "# 重新編碼\n",
    "df = df.reset_index(drop = True)\n",
    "len(df)  "
   ]
  },
  {
   "cell_type": "code",
   "execution_count": 26,
   "metadata": {},
   "outputs": [
    {
     "data": {
      "text/plain": [
       "'並肩 中能 也要 人生 你能 依然 另個 各自 後來 怎麼了 想的 我最 故事 期待著 淚水 無論是 然後 看到 精彩 親愛的 走著 追尋 那就是'"
      ]
     },
     "execution_count": 26,
     "metadata": {},
     "output_type": "execute_result"
    }
   ],
   "source": [
    "test = df[df['歌名'] == '後來的我們 (Here, After, Us)']\n",
    "test['feature'][27408]"
   ]
  },
  {
   "cell_type": "code",
   "execution_count": 27,
   "metadata": {},
   "outputs": [],
   "source": [
    "seg_list = list(df.feature)"
   ]
  },
  {
   "cell_type": "code",
   "execution_count": 28,
   "metadata": {},
   "outputs": [],
   "source": [
    "# 指定要分的群組數目\n",
    "n_clus = 20  ###############################################\n",
    "# dtm_lsa 作為分群的依據，呼叫 KMeans 函數\n",
    "kmeans = KMeans(n_clusters = n_clus, random_state = 0).fit(dtm_lsa)#括號內為降維結果\n",
    "\n",
    "# 算出各群中心點座標（會產生向量）\n",
    "cen = kmeans.cluster_centers_\n",
    "\n",
    "# cluster 的類別\n",
    "cluster = list(kmeans.labels_)\n",
    "#print(cluster[0:10])"
   ]
  },
  {
   "cell_type": "code",
   "execution_count": 30,
   "metadata": {
    "scrolled": false
   },
   "outputs": [
    {
     "name": "stdout",
     "output_type": "stream",
     "text": [
      "0 ****************************\n",
      "世界,傷悲,滋味,多麼,是非,儘管,裡的,挽回,女孩,好累,崇拜,不想,深深,夢裡,卑微,妥協,迂迴,心碎,後悔,掉過,肩並肩,腦海,歌聲,裡你,都應該,難道,存在,心裡,情不自已,意想不到\n",
      "1 ****************************\n",
      "不用,因為,折磨,這樣,愛過,如果,笑著,抱歉,我想,嫉妒,心痛,喜歡,跟在,不再,別再,分離,從沒有,付出,愛得,認真,離開,為你,可以,你會,我只,依然,走到,每秒,牽手,兩個\n",
      "2 ****************************\n",
      "你會,離開,我會,真心,記得,請你,給我,時候,我對,或許,害怕,選擇,除了,是否,再見,身邊,眼淚,妳是,不會,想起,證明,出口,走了,放心,回來,遇見,笑容,裡面,以前,懂了\n",
      "3 ****************************\n",
      "他們,無所謂,面對,如果,閃過,美麗的,時間,太大,承諾,地方,不到,記憶,依然,彼此,為什麼,愛我,回憶,這個,最愛,相愛,是誰,原諒,因為,今後,普通,我知道,花朵,背後,不同,整夜\n",
      "4 ****************************\n",
      "遠方,殘忍,成為,南方,為你,寧願,永恆,習慣,回憶,搖晃,胸口,歲月,不願,不散,忘了,憂傷,夢想,個人,前方,北方,家鄉,笑聲,瘋狂,是否,沉重,肩上,還能,最後,旅程,都要\n",
      "5 ****************************\n",
      "曾經,失去,陪我,為你,愛過,別說,看不到,回憶,遇見,知道,原來,微笑,是誰,追逐,下課,也許,但願,做回,原地,哭泣,塵不染,天空中,天際,姓名,守護,對抗,幸運,張開,後知後覺,忘記\n",
      "6 ****************************\n",
      "身邊,每天,想念,永遠,眼淚,心碎,個人,後悔,瞬間,幸福,太多,希望,畫面,愛的,發現,就算,實現,所有,那天,失眠,遇見,藍天,冒險,流淚,無法,看見,出現,世界,改變,故事\n",
      "7 ****************************\n",
      "不要,清楚,原來,結束,不想,祝福,幸福,最後,是你,想要,如果,事情,不能,所有,愛情,不讓,跟我,關於,無法,不確定,不管,明天,愛的,失去,現在,只要,伴隨,就算,旅途,記得\n",
      "8 ****************************\n",
      "溫柔,個人,自由,寂寞,生活,以後,難過,時候,感受,放手,不想,快樂,離開,如果,藉口,承諾,感動,愛我,我會,兩個人,為什麼,朋友,分手,就算,無法,在乎,寧願,感情,沉默,理由\n",
      "9 ****************************\n",
      "存在,未來,明白,離開,堅強,現在,我不,孤單,期待,給我,等待,勇敢,依賴,你在,我愛,幸福,習慣,快樂,愛我,不想,就算,身旁,地方,意外,方向,只有,不再,害怕,感覺,遺憾\n",
      "10 ****************************\n",
      "可不可以,淚滴,呼吸,愛你,親愛的,孤單,然後,想的,安靜,別再,追尋,為什麼,脆弱,難捨,依然,世紀,過去,苦苦,空心,愛不愛,想你,珍惜,光陰,苦心,學會,看到,我最,延續,讓愛,濃濃\n",
      "11 ****************************\n",
      "的話,全世界,任性,你會,軟弱,擁有,情緒,天上飛,想要,模仿,玫瑰,認真,約會,不需,咖啡,有點,願意,全都,那麼多,可能,不該,你就,印的,只要,名字,品嚐,塞納河畔,天起,害怕,寫錯\n",
      "12 ****************************\n",
      "愛我,理由,當我,當時,是你,給我,狠狠,時候,心裡,難過,快樂的,穿的,找不到,感動,身邊,有些,你那,決定,痛的,決心,距離,我還能,外套,做的,點點,我沒有,想起,放棄,哭著,你愛\n",
      "13 ****************************\n",
      "可以,愛情,放棄,忘記,如果,愛你,我會,永遠,記得,我們的,擁抱,呼吸,你我,開始,失去,回憶,靠近,美麗,幸福的,傷心,生命,就算,無法,所有,為你,時間,我還,離開,想念,只要\n",
      "14 ****************************\n",
      "每天,變成,最愛,擁抱,愛我,愛你,才能,愛情,配合,其實,只要,開始,簡單,放下,什麼時候,細節,那些,永遠,原來,觀眾,樣子,表演,曾經,需要,每秒,當愛,防備,幹嘛,情節,和我\n",
      "15 ****************************\n",
      "不曾,離開,裡的,帶走,卻又,牽著,不會,個人,當時,溫柔,現在,遺忘,無心,好像,可以,能夠,鏡子,習慣,生活,她是,輪廓,猶如,戴著,人生,搖動,好好,牽掛,故事,愛著,終究會\n",
      "16 ****************************\n",
      "喜歡,也許,想要,你我,愛我,你也,愛你,可是,亂世,瘋狂,為什麼,我想,為了,心跳,不想,我不,大腦,相愛,相遇,命運,等待,根本,我願,你已經,緣份,脈搏,讓我們,已經,微小,卻要\n",
      "17 ****************************\n",
      "不可能,不簡單,以前,仰要,修煉,別人,別講,努力,勇敢,原諒,受不了,多少次,多難,太陽,學會,幻想,幾年,幾年前,張臉,心酸,忘記,快樂,悲歡,想念,愛情,我會,找到,放好,是種,月亮\n",
      "18 ****************************\n",
      "始終,緣份,任性,堅定,年輕,透明,靠近,不停,不捨,不顧,世界,也可以,事情,低頭,停留,傷心,入鏡,切的給,剪接,動聽,吵醒,嫩綠,安靜,小小,小心,就怕,影像,心事,想知道,想起\n",
      "19 ****************************\n",
      "心跳,忘掉,擁抱,寂寞,燃燒,把你,依靠,不要,城堡,只想,安靜的,想要,不需要,打擾,個人,不掉,洶湧,可以,撒嬌,受不了,算不算,那個,快要,多久,最後,奔跑,知道,爭吵,認錯,懷抱\n"
     ]
    }
   ],
   "source": [
    "import collections\n",
    "for cluster_sel in range(max(cluster)+1):\n",
    "    string = ''\n",
    "    for n in range(len(cluster)):\n",
    "        if cluster[n] == cluster_sel:\n",
    "             string = string + ' ' + str(seg_list[n])\n",
    "    word_list = string.split()\n",
    "    counter = collections.Counter(word_list)\n",
    "    print (cluster_sel, \"****************************\")\n",
    "    features = ''\n",
    "    for k in counter.most_common(30):\n",
    "        features = features + ',' + k[0]\n",
    "    print (features[1:])"
   ]
  },
  {
   "cell_type": "code",
   "execution_count": 31,
   "metadata": {},
   "outputs": [],
   "source": [
    "font_path = 'Hiragino Sans GB.ttc'"
   ]
  },
  {
   "cell_type": "markdown",
   "metadata": {},
   "source": [
    "# 匯出文字雲並存擋"
   ]
  },
  {
   "cell_type": "code",
   "execution_count": 32,
   "metadata": {},
   "outputs": [],
   "source": [
    "#請先執行過分群演算法，並且以圖片1.jpg為底圖，白色為背景\n",
    "import matplotlib.pyplot as plt\n",
    "import numpy as np\n",
    "import collections\n",
    "from PIL import Image, ImageFont, ImageDraw\n",
    "from wordcloud import WordCloud, STOPWORDS\n",
    "import collections"
   ]
  },
  {
   "cell_type": "code",
   "execution_count": 33,
   "metadata": {
    "scrolled": false
   },
   "outputs": [],
   "source": [
    "#避免照著跑會匯出太多，故加上#\n",
    "#for i in range(20):\n",
    "  #  string=''\n",
    "    #cluster_sel = i\n",
    "    #for n in range(len(cluster)):\n",
    "      #  if cluster[n] ==cluster_sel:\n",
    "        #    string=string + ' ' + list(df.feature)[n]\n",
    "\n",
    "\n",
    "#    wordcloud = WordCloud(font_path='Hiragino Sans GB.ttc',max_font_size=300, min_font_size = 10,\n",
    "  #                        background_color=\"white\",  margin=1, height=1000, max_words=2000,width=2000)\n",
    "\n",
    "    # 依字詞出現的頻率，取最前面之1000個字詞繪圖\n",
    "    #word_list=string.split()\n",
    "    #counter=collections.Counter(word_list)\n",
    "    #most_term=counter.most_common(1000)\n",
    "    #wrd_dict=dict(most_term)\n",
    "\n",
    "    # 2 以字詞的頻率 dictionary 繪圖 ##############################\n",
    "    #wordcloud = wordcloud.generate_from_frequencies(wrd_dict)    \n",
    "    # 印出頻率最高的字詞\n",
    "    #print (cluster_sel)\n",
    "    #print (counter.most_common(20))\n",
    "\n",
    "    # save #################################################\n",
    "    #wordcloud.to_file(path + \"文字雲\"+str(cluster_sel)+\".jpg\")\n",
    "    # 繪圖\n",
    "    #plt.figure(figsize=(15,15))\n",
    "    #plt.imshow(wordcloud, interpolation='bilinear')\n",
    "    #plt.axis(\"off\")      \n",
    "    #plt.show() "
   ]
  },
  {
   "cell_type": "code",
   "execution_count": null,
   "metadata": {},
   "outputs": [],
   "source": []
  }
 ],
 "metadata": {
  "kernelspec": {
   "display_name": "Python 3",
   "language": "python",
   "name": "python3"
  },
  "language_info": {
   "codemirror_mode": {
    "name": "ipython",
    "version": 3
   },
   "file_extension": ".py",
   "mimetype": "text/x-python",
   "name": "python",
   "nbconvert_exporter": "python",
   "pygments_lexer": "ipython3",
   "version": "3.7.3"
  }
 },
 "nbformat": 4,
 "nbformat_minor": 2
}
